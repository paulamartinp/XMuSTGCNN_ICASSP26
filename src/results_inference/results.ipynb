{
 "cells": [
  {
   "cell_type": "markdown",
   "id": "851cbf2d",
   "metadata": {},
   "source": [
    "## GRAPH BASED METHODS"
   ]
  },
  {
   "cell_type": "code",
   "execution_count": 3,
   "id": "26c5828a",
   "metadata": {},
   "outputs": [
    {
     "name": "stdout",
     "output_type": "stream",
     "text": [
      "Mean +- STD:\n",
      "                    Mean       Std\n",
      "test_acc        0.769146  0.032687\n",
      "roc_auc         0.821526  0.013321\n",
      "aucpr           0.526324  0.032303\n",
      "f1_score        0.491667  0.035245\n",
      "sensitivity     0.727793  0.029487\n",
      "specificity     0.776494  0.042645\n",
      "inference_time  0.000888  0.000172\n"
     ]
    }
   ],
   "source": [
    "import json\n",
    "import pandas as pd\n",
    "\n",
    "path_st = './results/metrics_by_split_ST.json'\n",
    "\n",
    "with open(path_st, 'r') as f:\n",
    "    st_data = json.load(f)\n",
    "\n",
    "\n",
    "splits = list(range(1, 11))\n",
    "\n",
    "st_metrics_list = []\n",
    "for i in splits:\n",
    "    key_st = str(i)\n",
    "    if key_st in st_data:\n",
    "        st_metrics = st_data[key_st].copy()\n",
    "        st_metrics['Split'] = i\n",
    "        st_metrics_list.append(st_metrics)\n",
    "\n",
    "df_st_all = pd.DataFrame(st_metrics_list).set_index('Split')\n",
    "\n",
    "numeric_cols = df_st_all.select_dtypes(include='number').columns\n",
    "mean_st = df_st_all[numeric_cols].mean()\n",
    "std_st = df_st_all[numeric_cols].std()\n",
    "\n",
    "summary_st = pd.DataFrame({\n",
    "    'Mean': mean_st,\n",
    "    'Std': std_st\n",
    "})\n",
    "\n",
    "print(\"Mean +- STD:\")\n",
    "print(summary_st)"
   ]
  },
  {
   "cell_type": "markdown",
   "id": "5842eaff",
   "metadata": {},
   "source": [
    "## BASELINE"
   ]
  },
  {
   "cell_type": "code",
   "execution_count": 4,
   "id": "ca79b085",
   "metadata": {},
   "outputs": [
    {
     "name": "stdout",
     "output_type": "stream",
     "text": [
      "Mean +- STD:\n",
      "                  Mean       Std\n",
      "test_acc        0.7735  0.018745\n",
      "roc_auc         0.7800  0.025820\n",
      "aucpr           0.4980  0.013984\n",
      "f1_score        0.5060  0.012202\n",
      "sensitivity     0.6940  0.026331\n",
      "specificity     0.7640  0.015055\n",
      "inference_time  0.0000  0.000000\n",
      "training_time   7.0650  5.803325\n"
     ]
    }
   ],
   "source": [
    "import json\n",
    "import pandas as pd\n",
    "\n",
    "# -------------------------------\n",
    "path_st = './results_baselines/results.json'\n",
    "# -------------------------------\n",
    "\n",
    "with open(path_st, 'r') as f:\n",
    "    st_data = json.load(f)\n",
    "\n",
    "splits = list(range(1, 11))\n",
    "\n",
    "st_metrics_list = []\n",
    "for i in splits:\n",
    "    key_st = str(i)\n",
    "    if key_st in st_data:\n",
    "        st_metrics = st_data[key_st].copy()\n",
    "        st_metrics['Split'] = i\n",
    "        st_metrics_list.append(st_metrics)\n",
    "\n",
    "df_st_all = pd.DataFrame(st_metrics_list).set_index('Split')\n",
    "\n",
    "numeric_cols = df_st_all.select_dtypes(include='number').columns\n",
    "mean_st = df_st_all[numeric_cols].mean()\n",
    "std_st = df_st_all[numeric_cols].std()\n",
    "\n",
    "summary_st = pd.DataFrame({\n",
    "    'Mean': mean_st,\n",
    "    'Std': std_st\n",
    "})\n",
    "\n",
    "print(\"Mean +- STD:\")\n",
    "print(summary_st)"
   ]
  }
 ],
 "metadata": {
  "kernelspec": {
   "display_name": "base",
   "language": "python",
   "name": "python3"
  },
  "language_info": {
   "codemirror_mode": {
    "name": "ipython",
    "version": 3
   },
   "file_extension": ".py",
   "mimetype": "text/x-python",
   "name": "python",
   "nbconvert_exporter": "python",
   "pygments_lexer": "ipython3",
   "version": "3.11.4"
  }
 },
 "nbformat": 4,
 "nbformat_minor": 5
}
