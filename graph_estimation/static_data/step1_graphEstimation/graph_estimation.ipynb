{
 "cells": [
  {
   "cell_type": "code",
   "execution_count": null,
   "id": "69ec5b60",
   "metadata": {},
   "outputs": [],
   "source": [
    "import pandas as pd\n",
    "import numpy as np\n",
    "import matplotlib.pyplot as plt\n",
    "from joblib import Parallel, delayed\n",
    "\n",
    "import warnings\n",
    "warnings.filterwarnings(\"ignore\")\n",
    "import random\n",
    "\n",
    "import hgd_dtw\n",
    "import tensorflow as tf"
   ]
  },
  {
   "cell_type": "markdown",
   "id": "3db7a1ff",
   "metadata": {},
   "source": [
    "## Heterogeneous Gower Distance\n",
    "* IMPLEMENTATION OF GOWER DISTANCE CONSIDERING THE NATURE OF EACH VARIABLE, WITH CORRESPONDING NORMALIZATION AND RESCALING"
   ]
  },
  {
   "cell_type": "markdown",
   "id": "cc63cdac",
   "metadata": {},
   "source": [
    "## Features"
   ]
  },
  {
   "cell_type": "code",
   "execution_count": null,
   "id": "06bebed7",
   "metadata": {},
   "outputs": [],
   "source": [
    "folders = [\"s1\", \"s2\", \"s3\", \"s4\", \"s5\", \"s6\", \"s7\", \"s8\", \"s9\", \"s10\"\n",
    "]\n",
    "\n",
    "keys = ['Age', 'SAPSIIIScore', 'Gender']\n",
    "\n",
    "binary = ['Gender']\n",
    "\n",
    "continuous =  [variable for variable in keys if variable not in binary]"
   ]
  },
  {
   "cell_type": "code",
   "execution_count": null,
   "id": "bb0c85cd",
   "metadata": {},
   "outputs": [],
   "source": [
    "for c in range(len(folders)):\n",
    "    \n",
    "    ########################\n",
    "    ###### PARAMETERS ######\n",
    "    ########################\n",
    "    numberOfTimeStep = 1\n",
    "    norm = \"\" #data is already normalized with minmax!\n",
    "\n",
    "    # Load data\n",
    "    X_train = pd.read_csv(\"../../../DATA/\" + folders[c] + \"/X_train_static\" + norm + \".csv\")\n",
    "    X_train = X_train.to_numpy()\n",
    "    X_train = X_train.reshape(X_train.shape[0], numberOfTimeStep, X_train.shape[1])\n",
    "\n",
    "\n",
    "    print(\"X_noAMR_tr shape before reshape and val:\", X_train.shape)\n",
    "    \n",
    "    # Reshape data by features --> PxTxF to FxTxP\n",
    "    X_train = hgd_dtw.reshape_patients_by_features(X_train, keys, numberOfTimeStep)\n",
    "    print(\"X_train shape after reshape:\", X_train.shape)\n",
    "\n",
    "    for nt in range(numberOfTimeStep):\n",
    "        # Option 1: Generate a correlation matrix by matrix\n",
    "        x = X_train[:, nt, :] \n",
    "        \n",
    "        # Initialize distance matrix\n",
    "        mat_by_time_step = np.zeros((x.shape[0], x.shape[0]))\n",
    "\n",
    "        for i in range(x.shape[0]):\n",
    "            for j in range(x.shape[0]):\n",
    "                mat_by_time_step[i, j] = hgd_dtw.hgd_distance(x[i], x[j], keys[i], keys[j], binary, continuous)\n",
    "\n",
    "        S = hgd_dtw.diagonal_to_zero(mat_by_time_step)\n",
    "\n",
    "        pd.DataFrame(S, columns=keys, index=keys).to_csv(\"./estimatedGraphs/dtw-hgd/\" + folders[c] + f\"/adj_X_train_static{norm}\" + \".csv\", index=False)\n"
   ]
  }
 ],
 "metadata": {
  "kernelspec": {
   "display_name": "Python 3 (ipykernel)",
   "language": "python",
   "name": "python3"
  },
  "language_info": {
   "codemirror_mode": {
    "name": "ipython",
    "version": 3
   },
   "file_extension": ".py",
   "mimetype": "text/x-python",
   "name": "python",
   "nbconvert_exporter": "python",
   "pygments_lexer": "ipython3",
   "version": "3.11.4"
  }
 },
 "nbformat": 4,
 "nbformat_minor": 5
}
