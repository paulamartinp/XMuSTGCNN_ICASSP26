{
 "cells": [
  {
   "cell_type": "code",
   "execution_count": null,
   "id": "69ec5b60",
   "metadata": {},
   "outputs": [],
   "source": [
    "import pandas as pd\n",
    "import numpy as np\n",
    "import matplotlib.pyplot as plt\n",
    "from joblib import Parallel, delayed\n",
    "\n",
    "import warnings\n",
    "warnings.filterwarnings(\"ignore\")\n",
    "import random\n",
    "\n",
    "import hgd_dtw"
   ]
  },
  {
   "cell_type": "markdown",
   "id": "3db7a1ff",
   "metadata": {},
   "source": [
    "## Heterogeneous Gower Distance\n",
    "* IMPLEMENTATION OF GOWER DISTANCE CONSIDERING THE NATURE OF EACH VARIABLE, WITH CORRESPONDING NORMALIZATION AND RESCALING"
   ]
  },
  {
   "cell_type": "markdown",
   "id": "cc63cdac",
   "metadata": {},
   "source": [
    "## Features"
   ]
  },
  {
   "cell_type": "code",
   "execution_count": null,
   "id": "f4d7e8ab",
   "metadata": {},
   "outputs": [],
   "source": [
    "folders = [\"s1\", \"s2\", \"s3\", \"s4\", \"s5\", \"s6\", \"s7\", \"s8\", \"s9\", \"s10\"\n",
    "]\n",
    "\n",
    "norm = \"minMax_per_patient\"\n",
    "\n",
    "keys = ['AFA', 'AFE', 'AFO', 'AFS', 'AMG', 'CAR',\n",
    "       'CF1', 'CF2', 'CF3', 'CFO', 'CPS', 'GCC', 'GLI', 'IBL', 'LIN', 'LIP',\n",
    "       'MAC', 'MON', 'NTI', 'OTR', 'OXA', 'Otros', 'PEN', 'POL', 'QUI', 'SUL',\n",
    "       'TMS', 'TTC', 'horas_VM', 'contMask', 'numberOfPatients', 'numberOfPatientsMR',\n",
    "       'neighbor_CAR', 'neighbor_IBL', 'neighbor_AFO', 'neighbor_OXA',\n",
    "       'neighbor_QUI', 'neighbor_PEN', 'neighbor_AFA', 'neighbor_CF3',\n",
    "       'neighbor_GLI', 'neighbor_CPS', 'neighbor_TMS', 'neighbor_LIN',\n",
    "       'neighbor_NTI', 'neighbor_MAC', 'neighbor_OTR', 'neighbor_AMG',\n",
    "       'neighbor_AFE', 'neighbor_POL', 'neighbor_CF1', 'neighbor_GCC',\n",
    "       'neighbor_LIP', 'neighbor_AFS', 'neighbor_MON', 'neighbor_CFO',\n",
    "       'neighbor_Otros', 'neighbor_TTC', 'neighbor_CF2', 'neighbor_SUL',\n",
    "       'cambio_postural', 'insulina', 'nutr_art', 'sedacion', 'relajacion',\n",
    "       'n_transf', 'farm_vasoactivos', 'dosis_nems', 'hoursTraqueo',\n",
    "       'hoursConUlcera', 'hoursConHemo', 'C01 VC acceso periférico 1',\n",
    "       'C01 VC acceso periférico 2', 'C02 Vía central - YD',\n",
    "       'C02 Vía central - SD', 'C02 Vía central - SI', 'C02 Vía central - FD',\n",
    "       'C02 Vía central - YI', 'C02 Vía central - FI', 'numberOfCatheters',\n",
    "       'pc_acinet', 'pc_enteroc', 'pc_pseud', 'pc_staph', 'pc_no_germ']\n",
    "\n",
    "binary = ['AFA', 'AFE', 'AFO', 'AFS', 'AMG', 'CAR',\n",
    "       'CF1', 'CF2', 'CF3', 'CFO', 'CPS', 'GCC', 'GLI', 'IBL', 'LIN', 'LIP',\n",
    "       'MAC', 'MON', 'NTI', 'OTR', 'OXA', 'Otros', 'PEN', 'POL', 'QUI', 'SUL',\n",
    "       'TMS', 'TTC', \n",
    "       'cambio_postural', 'insulina', 'nutr_art', 'sedacion', 'farm_vasoactivos',\n",
    "       'pc_acinet', 'pc_enteroc', 'pc_pseud', 'pc_staph', 'pc_no_germ'\n",
    "       ]\n",
    "\n",
    "\n",
    "continuous =  [variable for variable in keys if variable not in binary]"
   ]
  },
  {
   "cell_type": "markdown",
   "id": "a2bcef1f",
   "metadata": {},
   "source": [
    "## Considering by time step\n",
    "* The relationships are assessed independently at each time step"
   ]
  },
  {
   "cell_type": "code",
   "execution_count": null,
   "id": "e8c88a39",
   "metadata": {},
   "outputs": [],
   "source": [
    "folders = [\"s1\", \"s2\", \"s3\", \"s4\", \"s5\", \"s6\", \"s7\", \"s8\", \"s9\", \"s10\"\n",
    "]"
   ]
  },
  {
   "cell_type": "code",
   "execution_count": null,
   "id": "bb0c85cd",
   "metadata": {},
   "outputs": [],
   "source": [
    "for c in range(len(folders)):\n",
    "    \n",
    "    numberOfTimeStep = 14\n",
    "    ########################\n",
    "\n",
    "    ####### BEGIN CODE ===>>\n",
    "    # Load data\n",
    "    X_train = np.load(\"../../../DATA/\" + folders[c] + \"/X_train_tensor_\"+norm+\".npy\")\n",
    "    \n",
    "    # Reshape data by features --> PxTxF to FxTxP\n",
    "    X_train = hgd_dtw.reshape_patients_by_features(X_train, keys, numberOfTimeStep)\n",
    "    print(\"X_train shape after reshape:\", X_train.shape)\n",
    "\n",
    "    for nt in range(numberOfTimeStep):\n",
    "        # Generate a correlation matrix by matrix\n",
    "        x = X_train[:, nt, :] \n",
    "        \n",
    "        mat_by_time_step = np.zeros((x.shape[0], x.shape[0]))\n",
    "\n",
    "        for i in range(x.shape[0]):\n",
    "            for j in range(x.shape[0]):\n",
    "                mat_by_time_step[i, j] = hgd_dtw.hgd_distance(x[i], x[j], keys[i], keys[j], binary, continuous)\n",
    "\n",
    "        S = hgd_dtw.diagonal_to_zero(mat_by_time_step)\n",
    "\n",
    "        pd.DataFrame(S, columns=keys, index=keys).to_csv(\"./estimatedGraphs/dtw-hgd/\" + folders[c] + \"/adj_X_train_TS_\" + str(nt) + \"_\" + norm + \".csv\", index=False)\n"
   ]
  }
 ],
 "metadata": {
  "kernelspec": {
   "display_name": "Python 3 (ipykernel)",
   "language": "python",
   "name": "python3"
  },
  "language_info": {
   "codemirror_mode": {
    "name": "ipython",
    "version": 3
   },
   "file_extension": ".py",
   "mimetype": "text/x-python",
   "name": "python",
   "nbconvert_exporter": "python",
   "pygments_lexer": "ipython3",
   "version": "3.11.4"
  }
 },
 "nbformat": 4,
 "nbformat_minor": 5
}
